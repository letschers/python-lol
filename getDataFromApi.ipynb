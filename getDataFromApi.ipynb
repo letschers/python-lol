{
 "cells": [
  {
   "cell_type": "code",
   "execution_count": 1,
   "metadata": {},
   "outputs": [],
   "source": [
    "# import pymongo\n",
    "import requests\n",
    "import pandas as pd\n",
    "import time\n",
    "\n",
    "\n",
    "API_KEY = 'RGAPI-c7cfbbf1-4fd8-46a8-acd7-418cc544c57d'\n",
    "games = []"
   ]
  },
  {
   "cell_type": "code",
   "execution_count": 2,
   "metadata": {},
   "outputs": [],
   "source": [
    "def get_account_id(playerName):\n",
    "    response = requests.get('https://br1.api.riotgames.com/lol/summoner/v4/summoners/by-name/'\\\n",
    "                            + playerName + '?api_key=' + API_KEY)\n",
    "    json = response.json()\n",
    "    accountId = json['accountId']\n",
    "    return accountId\n",
    "\n"
   ]
  },
  {
   "cell_type": "code",
   "execution_count": 3,
   "metadata": {},
   "outputs": [],
   "source": [
    "def get_game_ids(accId, copy_game_ids):\n",
    "    \n",
    "    game_ids = []\n",
    "    response1 = requests.get('https://br1.api.riotgames.com/lol/match/v4/matchlists/by-account/' + accId + '?beginIndex=0&endIndex=10&queue=420&api_key=' + API_KEY)\n",
    "    json1 = response1.json()['matches']\n",
    "\n",
    "    for game in json1:\n",
    "\n",
    "        if not game['gameId'] in copy_game_ids:\n",
    "            game_ids.append(str(game['gameId']))\n",
    "            \n",
    "    #game_ids[] stores the last 10 gameId of the selected player\n",
    "    return game_ids"
   ]
  },
  {
   "cell_type": "code",
   "execution_count": 4,
   "metadata": {},
   "outputs": [],
   "source": [
    "def get_games(gIds):\n",
    "    '''\n",
    "    Function that get x games \n",
    "    \n",
    "    parameters: \n",
    "    ----------\n",
    "        gIds: list or string containing gameIds\n",
    "    \n",
    "    returns:\n",
    "    ---------\n",
    "        games: list of dicts containing each game infos\n",
    "    '''\n",
    "    if isinstance(gIds, str):\n",
    "        gIds = [gIds]\n",
    "    \n",
    "    for game_id in gIds:\n",
    "        \n",
    "        response2 = requests.get('https://br1.api.riotgames.com/lol/match/v4/matches/'\\\n",
    "                                 + game_id + '?api_key=' + API_KEY)\n",
    "        json = response2.json()\n",
    "        #then for each 'game_id', request the info of the match \n",
    "\n",
    "        dict_game = {}\n",
    "        dict_game['game_id'] = game_id\n",
    "        #create a dict that will store the info of the current match\n",
    "\n",
    "        for n_team in range(2):\n",
    "            for n_ban in range(5):\n",
    "                ban = json['teams'][n_team]['bans'][n_ban]['championId']\n",
    "                #Ban ['teams'] 0 to 1 / 0 to 4\n",
    "                dict_game['ban_team_{}_{}'.format(n_team, n_ban)] = ban\n",
    "                #put the 5 bans of each team \n",
    "\n",
    "            t_dragon = json['teams'][n_team]['dragonKills']\n",
    "            dict_game['t_dragon_{}'.format(n_team)] = t_dragon\n",
    "\n",
    "            t_herald = json['teams'][n_team]['riftHeraldKills']\n",
    "            dict_game['t_herald_{}'.format(n_team)] = t_herald\n",
    "\n",
    "            t_turrets = json['teams'][n_team]['towerKills']\n",
    "            dict_game['t_turrets_{}'.format(n_team)] = t_turrets\n",
    "\n",
    "            t_barons = json['teams'][n_team]['baronKills']\n",
    "            dict_game['t_barons_{}'.format(n_team)] = t_barons\n",
    "\n",
    "            have_team_win = json['teams'][n_team]['win']\n",
    "            dict_game['have_team_win_{}'.format(n_team)] = have_team_win\n",
    "            #put the data inside the dict. range 2 bcz theres only 2 teams\n",
    "\n",
    "        for n_part in range(10):\n",
    "            p_identity = json['participantIdentities'][n_part]['player']['accountId']\n",
    "            dict_game['p_identity_{}'.format(n_part)] = p_identity        \n",
    "\n",
    "            p_kills = json['participants'][n_part]['stats']['kills']\n",
    "            dict_game['p_kills_{}'.format(n_part)] = p_kills\n",
    "\n",
    "            p_deaths = json['participants'][0]['stats']['deaths']\n",
    "            dict_game['p_deaths_{}'.format(n_part)] = p_deaths\n",
    "\n",
    "            p_assists = json['participants'][0]['stats']['assists']\n",
    "            dict_game['p_assists_{}'.format(n_part)] = p_assists\n",
    "\n",
    "            p_gold = json['participants'][0]['stats']['goldEarned']\n",
    "            dict_game['p_gold_{}'.format(n_part)] = p_gold\n",
    "\n",
    "            p_vision_score = json['participants'][0]['stats']['visionScore']\n",
    "            dict_game['p_vision_score_{}'.format(n_part)] = p_vision_score\n",
    "\n",
    "            p_farm = json['participants'][0]['stats']['totalMinionsKilled']\\\n",
    "            + json['participants'][0]['stats']['neutralMinionsKilled'] \n",
    "            dict_game['p_farm_{}'.format(n_part)] = p_farm\n",
    "\n",
    "            p_champ_id = json['participants'][0]['championId']\n",
    "            dict_game['p_champ_id_{}'.format(n_part)] = p_champ_id\n",
    "\n",
    "            p_team = json['participants'][0]['teamId']\n",
    "            dict_game['p_team_{}'.format(n_part)] = p_team\n",
    "            #add the info of each player of match on dict\n",
    "\n",
    "\n",
    "\n",
    "        games.append(dict_game)\n",
    "        #add the game at the dict of games\n",
    "        time.sleep(2)\n",
    "\n",
    "    return games\n",
    "        "
   ]
  },
  {
   "cell_type": "code",
   "execution_count": 5,
   "metadata": {},
   "outputs": [],
   "source": [
    "def save_games(games):\n",
    "    '''\n",
    "    function that saves the dict of games on a .json located on directory /games\n",
    "    \n",
    "    parameters:\n",
    "    -----------\n",
    "        games: dict containing the info of the games\n",
    "    \n",
    "    returns:\n",
    "    --------\n",
    "    player_ids: tuple with player_ids, copy_game_ids\n",
    "    '''\n",
    "    \n",
    "    df = pd.DataFrame(games)\n",
    "    \n",
    "    \n",
    "    player_ids = []\n",
    "    copy_game_ids = []\n",
    "    for p in df.columns:\n",
    "        if p.startswith('p_identity'):\n",
    "            player_ids += df[p].tolist()\n",
    "        \n",
    "        if p == 'game_id':\n",
    "            copy_game_ids += df[p].tolist()\n",
    "        \n",
    "\n",
    "    \n",
    "    df.to_json('games/partidas_{}.json'.format(round(time.time())))\n",
    "    return set(player_ids), set(copy_game_ids)"
   ]
  },
  {
   "cell_type": "code",
   "execution_count": 6,
   "metadata": {},
   "outputs": [
    {
     "data": {
      "text/plain": [
       "1550185059"
      ]
     },
     "execution_count": 6,
     "metadata": {},
     "output_type": "execute_result"
    }
   ],
   "source": [
    "round(time.time())"
   ]
  },
  {
   "cell_type": "code",
   "execution_count": 7,
   "metadata": {},
   "outputs": [],
   "source": [
    "#player_ids = []\n",
    "#copy_game_ids = []\n",
    "#for p in df.columns:\n",
    "#    if p.startswith('p_identity'):\n",
    "#        player_ids += df[p].tolist()\n",
    "#        \n",
    "#    if p == 'game_id':\n",
    "#        copy_game_ids += df[p].tolist()        \n",
    "    \n"
   ]
  },
  {
   "cell_type": "code",
   "execution_count": 8,
   "metadata": {},
   "outputs": [
    {
     "name": "stdout",
     "output_type": "stream",
     "text": [
      "1\n",
      "['2iOOSqQD5fvpgiS7I_DpV_LjXNuYcBhnVY5Iy3ek92zD'] []\n",
      "88\n",
      "{'bgZlsZBhOyfdYklWD0P1eSpnkGmHMSSBgIqg0U7y6mhrTg', 'noVL89dhsDtaHirW5gvcLXObNH86FmSW2nliCyfZrdZ0Mg', '1fuJ0O4jvzDITKYNtKSUyP4ICSz0sh2e6Q5_zmk46ms7', '55oR9A_jDNXOD8qwDS4MKqOYq5eIDELeB5_vtUQP1pI', 'N14y1D-K1ps7zFUKrz0qDQusbI7VnSWS8mIjUY_IvxFPGm4', 'X1I8Y_NvVzP-7TD76kb1QrNs1nicJ8WlA63JrU2nfHrnDg', 'oVqeijFz6WAAIzJVajjRGyjyj5flMGphTu31v4D9TZ0EYug', 'ZP-5Aobt0OAzqfBRDSmtZ76bmqG_hV5ETa-Rhmu0uNrmcf4', '3BFVM2schLDOJPlfyqyNJbUL13Lk0zoEHl0SwFYOsfchbEE', 'By8EV1-EhhhuUyIWi8omVF3LCTveLJuCzgKN2vahuDJsBfU', '7OkQaq_oasmKuMDeup2DpsC5TLUZFegUQSI4TfK6gTkU9wQ', '9_FKW82GO3Dmp5Aeg_qbLL6EAAlk6DXKY1j47lWcgweSQgo', 's-A313cl3W_jxpMqfO6PFkzQyNnNmb80pywxWDfTMUGWNQ', 'ZBo-MAJBL1gvs2qF65fXSa1yYf0h2bb-6xHI038_DlZ2MYM', 'RGvU7CjsUIEsGDO3wzMCT6sJMrEilLxqUx9d38h0ecxU', 'nMnie4tK2W8BDqYvc-PsmVP69IfrPN_feZ-gHv-0u98s6ps', 'N-rW2ppo3fcqDYaVBum0otEIbeh9oGrx0Ui_lChdrXF4NA', '5j2h-3n9CQNgb0skEfA4KfiR6TvlQvUE1Khp_QML0n3l', '3VGn8z-PtAYCfniuU9-tVj5KRKu2coaujAuW2XFSrl4kYw', 'kPnLHAjxGX6s-Z6z4dzCVFVM-vS6jkptdykp0GZWQvCWpw', 'ZqoMT4LJgMxxGKEhNw-OtBG5qd5vxeNkLgzM0HLGUhkaFHI', 'YFO1PlS4f1FF6kSI9DLb7pdy26Gfl8UddHAmVTY9fgwqG6Q', 'IMWopGKhAhWfJsmvg71Y7wNvupdL03XshjhRfmI0jEkJDg', 'j49ZAMWt-dMbP0E7BZjSuLG9f2b2yOEJ-_Fk5UVyYq98TCg', 'E_rxWMB14z_RldrrpRF18ff4dbKAf743WAljt_RV-sM4rus', 'PCZoFL0nnctsMvVAHvEtSR-mmafYOL23z7YCVZ5frLC5mJQ', '2iOOSqQD5fvpgiS7I_DpV_LjXNuYcBhnVY5Iy3ek92zD', 'oMion8zkmH0zI88xtU5kXy47kVzgUYNU2gYmsILsQZ0', '30DUVFjTmKYnMGeQYF_sECu6hbdIr2xVKrIyxSIplROQ-3Q', 'xYGVubEGmwtzOV_75mYWhwucq8ib0aCS9_Ldx4ej31vj', 'f862e5IEA8ENGrRM2beUaFu1FAqAtQRjzlze7DsoGBwTUA', '900cjOAKl7ITGSnlvUZCJczL3qeYCT7i8axCrTcJq_3OSYY', 'yOP6hCrUF2UzxGc2btlIzZ6faDn7yvsHZb8ZjyEVd_9ERLw', 'qTv2gQvp16jzD_Wn_evsKIGf8eihxvdjbOEKBcnyAQDNc-Y', 'S7ZVgCFhJsypZ4oqMycIde5DsUx716RJ1BDNLGxYjZM-zCc', 'OVO2RlEHbfC6mJ0xov6HSQLCSp9m9-qWj67Nal0rg8znEVc', 'us2qIbpfD4u69c1hyPpNl7xnts_1GGneV2dsv78FtF2B', 'vCrd3DOlLVa00586dRcJKxDR5yrccJ7cmqpQ1i_toqXNPNg', 'lN2RoSLR56OUhbFxemkzwTbV97Lv1duUIOjssXzeld_Gzjo', 'sg7F85YSFQ6c52Wys6VzrF2ROorBYjXOant-GKN7mPrwlNA', 'LyCmd7Xu9owSTP6vjbXCD5kLI1BNEqmrzUGlB2MncVoPY28', 'pI4yYvrXGCgUobV4KvA1DNw25bobOX5x8bg3k1uaqQeQAQ', 'MUJ8nvMx4A0jmeiWVfSLjPafOS2MF4nM_v2A32epip9UCg', 'f9JfDXGNF1ssVWqZ7VT-rKAsjFVpqGYwjds46VP0JNQ', 'tfdrnFj_diFgvaXCVysyQIdNiwCGQfarpZqVGviiSAldTOg', 'L5blFaIhVlVOKqRXHU3pYYSc7171O1EuUG687LjG6XHsJxM', 'iZhKf_LYIGeB7VPW3c2y9QtReJDy31s-SfCmEcQ3uQt9kxA', '29lknDYdecKwnUdMjzi9qmZsYDf19tKuffmsS-CPrA7ValRSWaz9r2pU', 'PMocXefh83EKWRNGKhZNCaCxtx9Nws7Cvvbl7YOn7aYSeQ', 'RBg6WR7zaYzzYRPqVZI1jVgQUeiq5BsCELU7JiIXPtiv-UU', 'l4aU53LjZDCvTLPOTlI9hIgyNExWIllosCOqfrDoMKbSPWk', 'RoJDJHBCb-GmOR5au6j9EjK6UYkS3M6jiavFFcsWvlHk_A', 'xUqmvBqo5jiWLqZ_eT8oU83D6sgKV2LUQtGleM9KtmdOU4M', 'vAqjN8dhnokjja8X4ClWV6xIXsQwHiyppJ9pXx5VkBspoEw', 'I9nNu1XTYYM3CbwjFVz_6emzf4SHHNt-ZASkiwSKaeUGR6I', 'Z7M-2gwxElwzi1eL0U0hrVjd9nOSGhdaerc9z2nM6oAjw7E', 'nr1VLPDWu-yV6rOrJsEKiucJJ84tX_ocouPnq5T5zIO1', 'nT0h-CF04NihDA7RPWrZmAFe5A1kcilGF3ROGPaltxuM-Kw', 'tz4fgPkI0_YLse7WP0rXatCfgucrJfO4JQBmUDRyJE3H', 'Ze8DlmrPMp8sSrp2ZY_iCRD2kr35EAx92AYDNPNGWicUlIE', 'rJokOASHn4yOUc7dpJMPu-p3GQePKzWLuaxZnqHXPVeRSLk', 'srz-5j2CR3ygaW4_L9Qz0Y59bC5us9_YvDe4OLBXXqBNby8', 'd1BwlqYfzB47TIyAb-8xSAOVTnfwkv17paO_2G32o-lR9ug', 'zshZlTO_0-0JbNybm7_2iarNCZ28I4I_v27ToMPAMBm05TA', 'aS1KT0nTB8L98YMtchDigkEs0t1bAdzbpj2Q2sZQ1rMWRTw', '5sTKgMOwYT-8RysFIb4O1B6Phl97QhipgNdLOzQ3HcY', '6QWQvm8kSU0y4sa7TH87pI4lHmalqh9kKFy6dTW0duy_Od4', 'C9LP9ADvv8PEaSKBZeIF7jukfHF-w1UW1pe6rfBMBl_l-6g', 'zzdJSOpT3HPjVo6Wj2x8ITkZmc9oGHtFXdf6wQ8s4s4v4Hg', '7hk8Ip0NFKq0BhNJ6FCwnCx83_Axd2wGr6oOyHr3z8L0Zhk', 'RFxab2cH-JzrO3LYKd85IqJigK2VeBtFGLCQRyE-HRNjLmE', '97iW8Ojd7l9xfQ2JqE1dYGPw49GjPBrPu-B58ri4JBthDxI', 'j2e8gT26Y_Oo2iJOY_kCm-O6yZ9Q5FP3X6P9TrvUBZC2TTk', 'Im--W4uZU9GXveCjv_A0B0V32Y1JahMnKY54bFi__MKjdtg', 'IySgHdYjum3IRFfeM_1wC9gaoBWdrgbkOCxBan3Ps2s', 'wdnLTFxQsWL995nG383bp02KKJfcj5Ysi3X3uDIpYDzpYq8', 'DNKWHzsM1q2AxOSSFPZTTVby2eop6PabUY8Z9HlGkX6iNoI', '2hIssLJ8w-4bCtSOvjk-GZ9p4ey_5Ixd-6AAsnUJS-iNp0c', '61IZVA0G5DB8n4hlmbmJA3Pn8Pkau4huTdkz0GujFzs', 'ftgTE4IeLFZC-kt-LAwo2S3mzt1cUjK7vuMaDX0U2CWuyq8', 'ScSBEZVDT2WEcaijd5mgYAKOYl3ME43DRT3Q6AulnNU7Bnw', '6dCUOatkCxKK9QQRdRllnpVAIwL8szv-eUjGwVmt-heN23Q', 'bIpHKQEatjoLvQxtHH5T2P1u0_LqNaFTzKzH-_xxH98', 'tOoEscwXpQIibWKW0RWaZfARl5wmYvL1o4oCgTE4TGU', '2vpaFtq84yEUejGkq8jJlhjmQ08_ButS60mp7z8ly34', 'PJCWrIPfyJzwCHX-qg-kE3erQCKGxr3EfZce5FxGkYXlvsM', 'xBbIf-zM4_Ar1t5ttX_z7MoxwEJ0AZ3rEbtHfPEimZApU1k', 'SQGKIXODOT53tl2jiF7jIl_dHeAL9xPDhkdUm4bcih97I-M'} []\n"
     ]
    },
    {
     "ename": "KeyError",
     "evalue": "'matches'",
     "output_type": "error",
     "traceback": [
      "\u001b[0;31m---------------------------------------------------------------------------\u001b[0m",
      "\u001b[0;31mKeyError\u001b[0m                                  Traceback (most recent call last)",
      "\u001b[0;32m<ipython-input-8-eefe9bb3c0cf>\u001b[0m in \u001b[0;36m<module>\u001b[0;34m()\u001b[0m\n\u001b[1;32m     11\u001b[0m         \u001b[0mprint\u001b[0m\u001b[0;34m(\u001b[0m\u001b[0mplayer_ids\u001b[0m\u001b[0;34m,\u001b[0m \u001b[0mcopy_game_ids\u001b[0m\u001b[0;34m)\u001b[0m\u001b[0;34m\u001b[0m\u001b[0m\n\u001b[1;32m     12\u001b[0m \u001b[0;34m\u001b[0m\u001b[0m\n\u001b[0;32m---> 13\u001b[0;31m         \u001b[0mgame_ids\u001b[0m \u001b[0;34m=\u001b[0m \u001b[0mget_game_ids\u001b[0m\u001b[0;34m(\u001b[0m\u001b[0mplayer_id\u001b[0m\u001b[0;34m,\u001b[0m \u001b[0mcopy_game_ids\u001b[0m\u001b[0;34m)\u001b[0m\u001b[0;34m\u001b[0m\u001b[0m\n\u001b[0m\u001b[1;32m     14\u001b[0m     \u001b[0;31m#         print(game_ids)\u001b[0m\u001b[0;34m\u001b[0m\u001b[0;34m\u001b[0m\u001b[0m\n\u001b[1;32m     15\u001b[0m \u001b[0;34m\u001b[0m\u001b[0m\n",
      "\u001b[0;32m<ipython-input-3-80117586564e>\u001b[0m in \u001b[0;36mget_game_ids\u001b[0;34m(accId, copy_game_ids)\u001b[0m\n\u001b[1;32m      3\u001b[0m     \u001b[0mgame_ids\u001b[0m \u001b[0;34m=\u001b[0m \u001b[0;34m[\u001b[0m\u001b[0;34m]\u001b[0m\u001b[0;34m\u001b[0m\u001b[0m\n\u001b[1;32m      4\u001b[0m     \u001b[0mresponse1\u001b[0m \u001b[0;34m=\u001b[0m \u001b[0mrequests\u001b[0m\u001b[0;34m.\u001b[0m\u001b[0mget\u001b[0m\u001b[0;34m(\u001b[0m\u001b[0;34m'https://br1.api.riotgames.com/lol/match/v4/matchlists/by-account/'\u001b[0m \u001b[0;34m+\u001b[0m \u001b[0maccId\u001b[0m \u001b[0;34m+\u001b[0m \u001b[0;34m'?beginIndex=0&endIndex=10&queue=420&api_key='\u001b[0m \u001b[0;34m+\u001b[0m \u001b[0mAPI_KEY\u001b[0m\u001b[0;34m)\u001b[0m\u001b[0;34m\u001b[0m\u001b[0m\n\u001b[0;32m----> 5\u001b[0;31m     \u001b[0mjson1\u001b[0m \u001b[0;34m=\u001b[0m \u001b[0mresponse1\u001b[0m\u001b[0;34m.\u001b[0m\u001b[0mjson\u001b[0m\u001b[0;34m(\u001b[0m\u001b[0;34m)\u001b[0m\u001b[0;34m[\u001b[0m\u001b[0;34m'matches'\u001b[0m\u001b[0;34m]\u001b[0m\u001b[0;34m\u001b[0m\u001b[0m\n\u001b[0m\u001b[1;32m      6\u001b[0m \u001b[0;34m\u001b[0m\u001b[0m\n\u001b[1;32m      7\u001b[0m     \u001b[0;32mfor\u001b[0m \u001b[0mgame\u001b[0m \u001b[0;32min\u001b[0m \u001b[0mjson1\u001b[0m\u001b[0;34m:\u001b[0m\u001b[0;34m\u001b[0m\u001b[0m\n",
      "\u001b[0;31mKeyError\u001b[0m: 'matches'"
     ]
    }
   ],
   "source": [
    "player_name = 'chaoshimself'\n",
    "copy_game_ids = []\n",
    "\n",
    "accId = get_account_id(player_name)\n",
    "\n",
    "player_ids = [accId]\n",
    "\n",
    "for n in range(2):\n",
    "    print(len(player_ids))\n",
    "    for player_id in player_ids:\n",
    "        print(player_ids, copy_game_ids)\n",
    "\n",
    "        game_ids = get_game_ids(player_id, copy_game_ids)\n",
    "    #         print(game_ids)\n",
    "\n",
    "        games = get_games(game_ids)\n",
    "    #         print(games)\n",
    "\n",
    "        player_ids, copy = save_games(games)\n",
    "#         print(player_ids, copy)\n",
    "#         copy_game_ids.append(copy)\n",
    "        \n",
    "    \n",
    "#     print(n)\n",
    "        "
   ]
  },
  {
   "cell_type": "code",
   "execution_count": 10,
   "metadata": {},
   "outputs": [
    {
     "data": {
      "text/plain": [
       "88"
      ]
     },
     "execution_count": 10,
     "metadata": {},
     "output_type": "execute_result"
    }
   ],
   "source": [
    "len()"
   ]
  },
  {
   "cell_type": "code",
   "execution_count": 16,
   "metadata": {},
   "outputs": [
    {
     "data": {
      "text/plain": [
       "10"
      ]
     },
     "execution_count": 16,
     "metadata": {},
     "output_type": "execute_result"
    }
   ],
   "source": [
    "len(copy)"
   ]
  },
  {
   "cell_type": "code",
   "execution_count": 10,
   "metadata": {},
   "outputs": [
    {
     "data": {
      "text/plain": [
       "10"
      ]
     },
     "execution_count": 10,
     "metadata": {},
     "output_type": "execute_result"
    }
   ],
   "source": [
    "len(game_ids)"
   ]
  },
  {
   "cell_type": "code",
   "execution_count": 12,
   "metadata": {},
   "outputs": [
    {
     "data": {
      "text/plain": [
       "95"
      ]
     },
     "execution_count": 12,
     "metadata": {},
     "output_type": "execute_result"
    }
   ],
   "source": [
    "len(player_ids)"
   ]
  },
  {
   "cell_type": "code",
   "execution_count": 25,
   "metadata": {},
   "outputs": [
    {
     "data": {
      "text/plain": [
       "284"
      ]
     },
     "execution_count": 25,
     "metadata": {},
     "output_type": "execute_result"
    }
   ],
   "source": [
    "len(player_ids)"
   ]
  },
  {
   "cell_type": "code",
   "execution_count": null,
   "metadata": {},
   "outputs": [],
   "source": [
    "#to do: arrumar bug!!"
   ]
  }
 ],
 "metadata": {
  "kernelspec": {
   "display_name": "Python 3",
   "language": "python",
   "name": "python3"
  },
  "language_info": {
   "codemirror_mode": {
    "name": "ipython",
    "version": 3
   },
   "file_extension": ".py",
   "mimetype": "text/x-python",
   "name": "python",
   "nbconvert_exporter": "python",
   "pygments_lexer": "ipython3",
   "version": "3.6.5"
  }
 },
 "nbformat": 4,
 "nbformat_minor": 2
}
